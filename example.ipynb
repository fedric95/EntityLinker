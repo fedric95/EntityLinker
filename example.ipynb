{
 "cells": [
  {
   "cell_type": "code",
   "execution_count": null,
   "metadata": {},
   "outputs": [],
   "source": [
    "import numpy as np\n",
    "import pandas as pd"
   ]
  },
  {
   "cell_type": "code",
   "execution_count": 3,
   "metadata": {},
   "outputs": [
    {
     "name": "stdout",
     "output_type": "stream",
     "text": [
      "Cloning into 'EntityLinker'...\n",
      "remote: Enumerating objects: 70, done.\u001b[K\n",
      "remote: Counting objects: 100% (70/70), done.\u001b[K\n",
      "remote: Compressing objects: 100% (67/67), done.\u001b[K\n",
      "remote: Total 70 (delta 17), reused 0 (delta 0), pack-reused 0\u001b[K\n",
      "Unpacking objects: 100% (70/70), done.\n"
     ]
    }
   ],
   "source": [
    "!git clone https://github.com/fedric95/EntityLinker.git"
   ]
  },
  {
   "cell_type": "code",
   "execution_count": 4,
   "metadata": {},
   "outputs": [
    {
     "name": "stdout",
     "output_type": "stream",
     "text": [
      "Processing ./EntityLinker\n",
      "Requirement already satisfied: spacy>=2.3.4 in /opt/conda/lib/python3.7/site-packages (from EntityLinker==0.1.0) (2.3.4)\n",
      "Requirement already satisfied: sentence_transformers>=0.4.1 in /opt/conda/lib/python3.7/site-packages (from EntityLinker==0.1.0) (0.4.1.2)\n",
      "Requirement already satisfied: sentencepiece in /opt/conda/lib/python3.7/site-packages (from sentence_transformers>=0.4.1->EntityLinker==0.1.0) (0.1.91)\n",
      "Requirement already satisfied: numpy in /opt/conda/lib/python3.7/site-packages (from sentence_transformers>=0.4.1->EntityLinker==0.1.0) (1.18.5)\n",
      "Requirement already satisfied: nltk in /opt/conda/lib/python3.7/site-packages (from sentence_transformers>=0.4.1->EntityLinker==0.1.0) (3.2.4)\n",
      "Requirement already satisfied: torch>=1.6.0 in /opt/conda/lib/python3.7/site-packages (from sentence_transformers>=0.4.1->EntityLinker==0.1.0) (1.7.0)\n",
      "Requirement already satisfied: scikit-learn in /opt/conda/lib/python3.7/site-packages (from sentence_transformers>=0.4.1->EntityLinker==0.1.0) (0.23.2)\n",
      "Requirement already satisfied: scipy in /opt/conda/lib/python3.7/site-packages (from sentence_transformers>=0.4.1->EntityLinker==0.1.0) (1.4.1)\n",
      "Requirement already satisfied: tqdm in /opt/conda/lib/python3.7/site-packages (from sentence_transformers>=0.4.1->EntityLinker==0.1.0) (4.45.0)\n",
      "Requirement already satisfied: transformers<5.0.0,>=3.1.0 in /opt/conda/lib/python3.7/site-packages (from sentence_transformers>=0.4.1->EntityLinker==0.1.0) (3.5.1)\n",
      "Requirement already satisfied: six in /opt/conda/lib/python3.7/site-packages (from nltk->sentence_transformers>=0.4.1->EntityLinker==0.1.0) (1.14.0)\n",
      "Requirement already satisfied: threadpoolctl>=2.0.0 in /opt/conda/lib/python3.7/site-packages (from scikit-learn->sentence_transformers>=0.4.1->EntityLinker==0.1.0) (2.1.0)\n",
      "Requirement already satisfied: numpy in /opt/conda/lib/python3.7/site-packages (from sentence_transformers>=0.4.1->EntityLinker==0.1.0) (1.18.5)\n",
      "Requirement already satisfied: scipy in /opt/conda/lib/python3.7/site-packages (from sentence_transformers>=0.4.1->EntityLinker==0.1.0) (1.4.1)\n",
      "Requirement already satisfied: joblib>=0.11 in /opt/conda/lib/python3.7/site-packages (from scikit-learn->sentence_transformers>=0.4.1->EntityLinker==0.1.0) (0.14.1)\n",
      "Requirement already satisfied: numpy in /opt/conda/lib/python3.7/site-packages (from sentence_transformers>=0.4.1->EntityLinker==0.1.0) (1.18.5)\n",
      "Requirement already satisfied: srsly<1.1.0,>=1.0.2 in /opt/conda/lib/python3.7/site-packages (from spacy>=2.3.4->EntityLinker==0.1.0) (1.0.5)\n",
      "Requirement already satisfied: murmurhash<1.1.0,>=0.28.0 in /opt/conda/lib/python3.7/site-packages (from spacy>=2.3.4->EntityLinker==0.1.0) (1.0.5)\n",
      "Requirement already satisfied: tqdm in /opt/conda/lib/python3.7/site-packages (from sentence_transformers>=0.4.1->EntityLinker==0.1.0) (4.45.0)\n",
      "Requirement already satisfied: numpy in /opt/conda/lib/python3.7/site-packages (from sentence_transformers>=0.4.1->EntityLinker==0.1.0) (1.18.5)\n",
      "Requirement already satisfied: plac<1.2.0,>=0.9.6 in /opt/conda/lib/python3.7/site-packages (from spacy>=2.3.4->EntityLinker==0.1.0) (1.1.3)\n",
      "Requirement already satisfied: cymem<2.1.0,>=2.0.2 in /opt/conda/lib/python3.7/site-packages (from spacy>=2.3.4->EntityLinker==0.1.0) (2.0.5)\n",
      "Requirement already satisfied: thinc<7.5.0,>=7.4.1 in /opt/conda/lib/python3.7/site-packages (from spacy>=2.3.4->EntityLinker==0.1.0) (7.4.3)\n",
      "Requirement already satisfied: catalogue<1.1.0,>=0.0.7 in /opt/conda/lib/python3.7/site-packages (from spacy>=2.3.4->EntityLinker==0.1.0) (1.0.0)\n",
      "Requirement already satisfied: wasabi<1.1.0,>=0.4.0 in /opt/conda/lib/python3.7/site-packages (from spacy>=2.3.4->EntityLinker==0.1.0) (0.8.0)\n",
      "Requirement already satisfied: blis<0.8.0,>=0.4.0 in /opt/conda/lib/python3.7/site-packages (from spacy>=2.3.4->EntityLinker==0.1.0) (0.7.4)\n",
      "Requirement already satisfied: setuptools in /opt/conda/lib/python3.7/site-packages (from spacy>=2.3.4->EntityLinker==0.1.0) (46.1.3.post20200325)\n",
      "Requirement already satisfied: requests<3.0.0,>=2.13.0 in /opt/conda/lib/python3.7/site-packages (from spacy>=2.3.4->EntityLinker==0.1.0) (2.23.0)\n",
      "Requirement already satisfied: preshed<3.1.0,>=3.0.2 in /opt/conda/lib/python3.7/site-packages (from spacy>=2.3.4->EntityLinker==0.1.0) (3.0.5)\n",
      "Requirement already satisfied: numpy in /opt/conda/lib/python3.7/site-packages (from sentence_transformers>=0.4.1->EntityLinker==0.1.0) (1.18.5)\n",
      "Requirement already satisfied: importlib-metadata>=0.20 in /opt/conda/lib/python3.7/site-packages (from catalogue<1.1.0,>=0.0.7->spacy>=2.3.4->EntityLinker==0.1.0) (3.1.1)\n",
      "Requirement already satisfied: zipp>=0.5 in /opt/conda/lib/python3.7/site-packages (from importlib-metadata>=0.20->catalogue<1.1.0,>=0.0.7->spacy>=2.3.4->EntityLinker==0.1.0) (3.1.0)\n",
      "Requirement already satisfied: murmurhash<1.1.0,>=0.28.0 in /opt/conda/lib/python3.7/site-packages (from spacy>=2.3.4->EntityLinker==0.1.0) (1.0.5)\n",
      "Requirement already satisfied: cymem<2.1.0,>=2.0.2 in /opt/conda/lib/python3.7/site-packages (from spacy>=2.3.4->EntityLinker==0.1.0) (2.0.5)\n",
      "Requirement already satisfied: urllib3!=1.25.0,!=1.25.1,<1.26,>=1.21.1 in /opt/conda/lib/python3.7/site-packages (from requests<3.0.0,>=2.13.0->spacy>=2.3.4->EntityLinker==0.1.0) (1.25.9)\n",
      "Requirement already satisfied: certifi>=2017.4.17 in /opt/conda/lib/python3.7/site-packages (from requests<3.0.0,>=2.13.0->spacy>=2.3.4->EntityLinker==0.1.0) (2020.12.5)\n",
      "Requirement already satisfied: chardet<4,>=3.0.2 in /opt/conda/lib/python3.7/site-packages (from requests<3.0.0,>=2.13.0->spacy>=2.3.4->EntityLinker==0.1.0) (3.0.4)\n",
      "Requirement already satisfied: idna<3,>=2.5 in /opt/conda/lib/python3.7/site-packages (from requests<3.0.0,>=2.13.0->spacy>=2.3.4->EntityLinker==0.1.0) (2.9)\n",
      "Requirement already satisfied: murmurhash<1.1.0,>=0.28.0 in /opt/conda/lib/python3.7/site-packages (from spacy>=2.3.4->EntityLinker==0.1.0) (1.0.5)\n",
      "Requirement already satisfied: preshed<3.1.0,>=3.0.2 in /opt/conda/lib/python3.7/site-packages (from spacy>=2.3.4->EntityLinker==0.1.0) (3.0.5)\n",
      "Requirement already satisfied: numpy in /opt/conda/lib/python3.7/site-packages (from sentence_transformers>=0.4.1->EntityLinker==0.1.0) (1.18.5)\n",
      "Requirement already satisfied: plac<1.2.0,>=0.9.6 in /opt/conda/lib/python3.7/site-packages (from spacy>=2.3.4->EntityLinker==0.1.0) (1.1.3)\n",
      "Requirement already satisfied: cymem<2.1.0,>=2.0.2 in /opt/conda/lib/python3.7/site-packages (from spacy>=2.3.4->EntityLinker==0.1.0) (2.0.5)\n",
      "Requirement already satisfied: wasabi<1.1.0,>=0.4.0 in /opt/conda/lib/python3.7/site-packages (from spacy>=2.3.4->EntityLinker==0.1.0) (0.8.0)\n",
      "Requirement already satisfied: srsly<1.1.0,>=1.0.2 in /opt/conda/lib/python3.7/site-packages (from spacy>=2.3.4->EntityLinker==0.1.0) (1.0.5)\n",
      "Requirement already satisfied: catalogue<1.1.0,>=0.0.7 in /opt/conda/lib/python3.7/site-packages (from spacy>=2.3.4->EntityLinker==0.1.0) (1.0.0)\n",
      "Requirement already satisfied: blis<0.8.0,>=0.4.0 in /opt/conda/lib/python3.7/site-packages (from spacy>=2.3.4->EntityLinker==0.1.0) (0.7.4)\n",
      "Requirement already satisfied: tqdm in /opt/conda/lib/python3.7/site-packages (from sentence_transformers>=0.4.1->EntityLinker==0.1.0) (4.45.0)\n",
      "Requirement already satisfied: future in /opt/conda/lib/python3.7/site-packages (from torch>=1.6.0->sentence_transformers>=0.4.1->EntityLinker==0.1.0) (0.18.2)\n",
      "Requirement already satisfied: typing_extensions in /opt/conda/lib/python3.7/site-packages (from torch>=1.6.0->sentence_transformers>=0.4.1->EntityLinker==0.1.0) (3.7.4.1)\n",
      "Requirement already satisfied: dataclasses in /opt/conda/lib/python3.7/site-packages (from torch>=1.6.0->sentence_transformers>=0.4.1->EntityLinker==0.1.0) (0.6)\n",
      "Requirement already satisfied: numpy in /opt/conda/lib/python3.7/site-packages (from sentence_transformers>=0.4.1->EntityLinker==0.1.0) (1.18.5)\n",
      "Requirement already satisfied: protobuf in /opt/conda/lib/python3.7/site-packages (from transformers<5.0.0,>=3.1.0->sentence_transformers>=0.4.1->EntityLinker==0.1.0) (3.14.0)\n",
      "Requirement already satisfied: requests<3.0.0,>=2.13.0 in /opt/conda/lib/python3.7/site-packages (from spacy>=2.3.4->EntityLinker==0.1.0) (2.23.0)\n",
      "Requirement already satisfied: numpy in /opt/conda/lib/python3.7/site-packages (from sentence_transformers>=0.4.1->EntityLinker==0.1.0) (1.18.5)\n",
      "Requirement already satisfied: regex!=2019.12.17 in /opt/conda/lib/python3.7/site-packages (from transformers<5.0.0,>=3.1.0->sentence_transformers>=0.4.1->EntityLinker==0.1.0) (2020.4.4)\n",
      "Requirement already satisfied: packaging in /opt/conda/lib/python3.7/site-packages (from transformers<5.0.0,>=3.1.0->sentence_transformers>=0.4.1->EntityLinker==0.1.0) (20.1)\n",
      "Requirement already satisfied: filelock in /opt/conda/lib/python3.7/site-packages (from transformers<5.0.0,>=3.1.0->sentence_transformers>=0.4.1->EntityLinker==0.1.0) (3.0.10)\n",
      "Requirement already satisfied: sacremoses in /opt/conda/lib/python3.7/site-packages (from transformers<5.0.0,>=3.1.0->sentence_transformers>=0.4.1->EntityLinker==0.1.0) (0.0.43)\n",
      "Requirement already satisfied: tqdm in /opt/conda/lib/python3.7/site-packages (from sentence_transformers>=0.4.1->EntityLinker==0.1.0) (4.45.0)\n",
      "Requirement already satisfied: tokenizers==0.9.3 in /opt/conda/lib/python3.7/site-packages (from transformers<5.0.0,>=3.1.0->sentence_transformers>=0.4.1->EntityLinker==0.1.0) (0.9.3)\n",
      "Requirement already satisfied: sentencepiece in /opt/conda/lib/python3.7/site-packages (from sentence_transformers>=0.4.1->EntityLinker==0.1.0) (0.1.91)\n"
     ]
    },
    {
     "name": "stdout",
     "output_type": "stream",
     "text": [
      "Requirement already satisfied: pyparsing>=2.0.2 in /opt/conda/lib/python3.7/site-packages (from packaging->transformers<5.0.0,>=3.1.0->sentence_transformers>=0.4.1->EntityLinker==0.1.0) (2.4.7)\n",
      "Requirement already satisfied: six in /opt/conda/lib/python3.7/site-packages (from nltk->sentence_transformers>=0.4.1->EntityLinker==0.1.0) (1.14.0)\n",
      "Requirement already satisfied: six in /opt/conda/lib/python3.7/site-packages (from nltk->sentence_transformers>=0.4.1->EntityLinker==0.1.0) (1.14.0)\n",
      "Requirement already satisfied: regex!=2019.12.17 in /opt/conda/lib/python3.7/site-packages (from transformers<5.0.0,>=3.1.0->sentence_transformers>=0.4.1->EntityLinker==0.1.0) (2020.4.4)\n",
      "Requirement already satisfied: click in /opt/conda/lib/python3.7/site-packages (from sacremoses->transformers<5.0.0,>=3.1.0->sentence_transformers>=0.4.1->EntityLinker==0.1.0) (7.1.1)\n",
      "Requirement already satisfied: joblib>=0.11 in /opt/conda/lib/python3.7/site-packages (from scikit-learn->sentence_transformers>=0.4.1->EntityLinker==0.1.0) (0.14.1)\n",
      "Requirement already satisfied: tqdm in /opt/conda/lib/python3.7/site-packages (from sentence_transformers>=0.4.1->EntityLinker==0.1.0) (4.45.0)\n",
      "Requirement already satisfied: six in /opt/conda/lib/python3.7/site-packages (from nltk->sentence_transformers>=0.4.1->EntityLinker==0.1.0) (1.14.0)\n",
      "Building wheels for collected packages: EntityLinker\n",
      "  Building wheel for EntityLinker (setup.py) ... \u001b[?25ldone\n",
      "\u001b[?25h  Created wheel for EntityLinker: filename=EntityLinker-0.1.0-py3-none-any.whl size=3948 sha256=03e1db2a1f94e799f6a144015d5bf184525eb56f51db51f65c0fe956e7f94c26\n",
      "  Stored in directory: /tmp/pip-ephem-wheel-cache-tyv15coj/wheels/6b/62/ce/9f65eed28702e5b8efd427784b89b5069b950f37e08eecc89d\n",
      "Successfully built EntityLinker\n",
      "Installing collected packages: EntityLinker\n",
      "Successfully installed EntityLinker-0.1.0\n",
      "\u001b[33mWARNING: You are using pip version 20.3.1; however, version 20.3.3 is available.\n",
      "You should consider upgrading via the '/opt/conda/bin/python3.7 -m pip install --upgrade pip' command.\u001b[0m\n"
     ]
    }
   ],
   "source": [
    "!pip install ./EntityLinker"
   ]
  },
  {
   "cell_type": "code",
   "execution_count": 5,
   "metadata": {},
   "outputs": [],
   "source": [
    "from EntityLinker.EntityLinker import *"
   ]
  },
  {
   "cell_type": "code",
   "execution_count": 6,
   "metadata": {},
   "outputs": [],
   "source": [
    "LOC = [\n",
    "    [0, 'Africa', 'continent on the Earth\\'s northern and southern hemispheres'],\n",
    "    [1, 'South', 'America, continent, mainly on the Earth\\'s southwestern quadrant'],\n",
    "    [2, 'Europe', 'continent on Earth, mainly on the northeastern quadrant, i.e. north-western Eurasia'],\n",
    "    [3, 'Asia', 'continent, mainly on the Earth\\'s northeastern quadrant'],\n",
    "]\n",
    "\n",
    "ORG = [\n",
    "    [4, 'ABS Jets', 'company in the Czech Republic'],\n",
    "    [5, 'Scandinavian Airlines', 'Flag-carrier airline of Denmark, Norway and Sweden'],\n",
    "    [6, 'Iberia', 'flag-carrier airline of Spain'],\n",
    "    [7, 'Air Siam', 'former Thai airline'],\n",
    "]"
   ]
  },
  {
   "cell_type": "code",
   "execution_count": 7,
   "metadata": {},
   "outputs": [],
   "source": [
    "dictionary = {\n",
    "    'LOC' : pd.DataFrame(LOC, columns=['entity', 'value', 'desc']),\n",
    "    'ORG' : pd.DataFrame(ORG, columns=['entity', 'value', 'desc'])\n",
    "}"
   ]
  },
  {
   "cell_type": "code",
   "execution_count": 8,
   "metadata": {},
   "outputs": [
    {
     "data": {
      "application/vnd.jupyter.widget-view+json": {
       "model_id": "da1b1af8194a4be7a6cb1709a02a4c3a",
       "version_major": 2,
       "version_minor": 0
      },
      "text/plain": [
       "HBox(children=(FloatProgress(value=0.0, description='Downloading', max=730.0, style=ProgressStyle(description_…"
      ]
     },
     "metadata": {},
     "output_type": "display_data"
    },
    {
     "name": "stdout",
     "output_type": "stream",
     "text": [
      "\n"
     ]
    },
    {
     "data": {
      "application/vnd.jupyter.widget-view+json": {
       "model_id": "9baf4cf5bfd24836bd322c9524d6183b",
       "version_major": 2,
       "version_minor": 0
      },
      "text/plain": [
       "HBox(children=(FloatProgress(value=0.0, description='Downloading', max=438022601.0, style=ProgressStyle(descri…"
      ]
     },
     "metadata": {},
     "output_type": "display_data"
    },
    {
     "name": "stdout",
     "output_type": "stream",
     "text": [
      "\n"
     ]
    },
    {
     "data": {
      "application/vnd.jupyter.widget-view+json": {
       "model_id": "b2075582d76e44a1a47a8126594cab85",
       "version_major": 2,
       "version_minor": 0
      },
      "text/plain": [
       "HBox(children=(FloatProgress(value=0.0, description='Downloading', max=231508.0, style=ProgressStyle(descripti…"
      ]
     },
     "metadata": {},
     "output_type": "display_data"
    },
    {
     "name": "stdout",
     "output_type": "stream",
     "text": [
      "\n"
     ]
    },
    {
     "data": {
      "application/vnd.jupyter.widget-view+json": {
       "model_id": "eac2aefe44d742f082065c2ed52a353d",
       "version_major": 2,
       "version_minor": 0
      },
      "text/plain": [
       "HBox(children=(FloatProgress(value=0.0, description='Downloading', max=112.0, style=ProgressStyle(description_…"
      ]
     },
     "metadata": {},
     "output_type": "display_data"
    },
    {
     "name": "stdout",
     "output_type": "stream",
     "text": [
      "\n"
     ]
    },
    {
     "data": {
      "application/vnd.jupyter.widget-view+json": {
       "model_id": "7e74dba2edd144fd9b507389471552bf",
       "version_major": 2,
       "version_minor": 0
      },
      "text/plain": [
       "HBox(children=(FloatProgress(value=0.0, description='Downloading', max=316.0, style=ProgressStyle(description_…"
      ]
     },
     "metadata": {},
     "output_type": "display_data"
    },
    {
     "name": "stdout",
     "output_type": "stream",
     "text": [
      "\n"
     ]
    }
   ],
   "source": [
    "annotator = Annotator(dictionary)"
   ]
  },
  {
   "cell_type": "code",
   "execution_count": 9,
   "metadata": {},
   "outputs": [
    {
     "data": {
      "application/vnd.jupyter.widget-view+json": {
       "model_id": "15ec8127105b4dd0a09afd506a1f8a1d",
       "version_major": 2,
       "version_minor": 0
      },
      "text/plain": [
       "HBox(children=(FloatProgress(value=0.0, description='Batches', max=1.0, style=ProgressStyle(description_width=…"
      ]
     },
     "metadata": {},
     "output_type": "display_data"
    },
    {
     "name": "stdout",
     "output_type": "stream",
     "text": [
      "\n"
     ]
    },
    {
     "data": {
      "application/vnd.jupyter.widget-view+json": {
       "model_id": "be5d42dd569d4bb79e73de1832feeeb3",
       "version_major": 2,
       "version_minor": 0
      },
      "text/plain": [
       "HBox(children=(FloatProgress(value=0.0, description='Batches', max=1.0, style=ProgressStyle(description_width=…"
      ]
     },
     "metadata": {},
     "output_type": "display_data"
    },
    {
     "name": "stdout",
     "output_type": "stream",
     "text": [
      "\n"
     ]
    },
    {
     "data": {
      "text/plain": [
       "[{'mention': 'Scandinavian Airlines',\n",
       "  'context': 'Scandinavian Airlines is a company based in',\n",
       "  'type': 'ORG',\n",
       "  'entity': {'value': 'Scandinavian Airlines',\n",
       "   'description': 'Flag-carrier airline of Denmark, Norway and Sweden',\n",
       "   'entity': 5}},\n",
       " {'mention': 'Europe',\n",
       "  'context': 'is a company based in Europe',\n",
       "  'type': 'LOC',\n",
       "  'entity': {'value': 'Europe',\n",
       "   'description': 'continent on Earth, mainly on the northeastern quadrant, i.e. north-western Eurasia',\n",
       "   'entity': 2}}]"
      ]
     },
     "execution_count": 9,
     "metadata": {},
     "output_type": "execute_result"
    }
   ],
   "source": [
    "text = 'Scandinavian Airlines is a company based in Europe'\n",
    "annotator.annotate(text)"
   ]
  }
 ],
 "metadata": {
  "kernelspec": {
   "display_name": "Python 3",
   "language": "python",
   "name": "python3"
  },
  "language_info": {
   "codemirror_mode": {
    "name": "ipython",
    "version": 3
   },
   "file_extension": ".py",
   "mimetype": "text/x-python",
   "name": "python",
   "nbconvert_exporter": "python",
   "pygments_lexer": "ipython3",
   "version": "3.7.4"
  }
 },
 "nbformat": 4,
 "nbformat_minor": 4
}
